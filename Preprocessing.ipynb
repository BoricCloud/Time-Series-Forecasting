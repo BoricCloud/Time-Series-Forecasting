{
 "metadata": {
  "language_info": {
   "codemirror_mode": {
    "name": "ipython",
    "version": 3
   },
   "file_extension": ".py",
   "mimetype": "text/x-python",
   "name": "python",
   "nbconvert_exporter": "python",
   "pygments_lexer": "ipython3",
   "version": "3.8.5"
  },
  "orig_nbformat": 2,
  "kernelspec": {
   "name": "python3",
   "display_name": "Python 3.8.5 32-bit"
  },
  "interpreter": {
   "hash": "ac52dd89a7189bfe1fdd8c2ca3ed988d1038ffed7772cb42bac30e72814b668e"
  }
 },
 "nbformat": 4,
 "nbformat_minor": 2,
 "cells": [
  {
   "cell_type": "code",
   "execution_count": 1,
   "metadata": {},
   "outputs": [],
   "source": [
    "import pandas as pd\n",
    "import numpy as np"
   ]
  },
  {
   "cell_type": "code",
   "execution_count": 22,
   "metadata": {},
   "outputs": [],
   "source": [
    "# dati modificati manualmente su excel per quanto riguarda i cambi ora 2019-03-31 ; 2020-03-29 -> media tra ora precedente e successiva\n",
    "\n",
    "df = pd.read_csv(r\"C:\\Users\\jacop\\Desktop\\Time Series\\Dati Progetto Corretti.csv\")"
   ]
  },
  {
   "cell_type": "code",
   "execution_count": 28,
   "metadata": {},
   "outputs": [
    {
     "output_type": "execute_result",
     "data": {
      "text/plain": [
       "        DATA  Ora   VALORE\n",
       "0 2018-09-01    1  3646742\n",
       "1 2018-09-01    2  3273110\n",
       "2 2018-09-01    3  3069245\n",
       "3 2018-09-01    4  2969621\n",
       "4 2018-09-01    5  2944116"
      ],
      "text/html": "<div>\n<style scoped>\n    .dataframe tbody tr th:only-of-type {\n        vertical-align: middle;\n    }\n\n    .dataframe tbody tr th {\n        vertical-align: top;\n    }\n\n    .dataframe thead th {\n        text-align: right;\n    }\n</style>\n<table border=\"1\" class=\"dataframe\">\n  <thead>\n    <tr style=\"text-align: right;\">\n      <th></th>\n      <th>DATA</th>\n      <th>Ora</th>\n      <th>VALORE</th>\n    </tr>\n  </thead>\n  <tbody>\n    <tr>\n      <th>0</th>\n      <td>2018-09-01</td>\n      <td>1</td>\n      <td>3646742</td>\n    </tr>\n    <tr>\n      <th>1</th>\n      <td>2018-09-01</td>\n      <td>2</td>\n      <td>3273110</td>\n    </tr>\n    <tr>\n      <th>2</th>\n      <td>2018-09-01</td>\n      <td>3</td>\n      <td>3069245</td>\n    </tr>\n    <tr>\n      <th>3</th>\n      <td>2018-09-01</td>\n      <td>4</td>\n      <td>2969621</td>\n    </tr>\n    <tr>\n      <th>4</th>\n      <td>2018-09-01</td>\n      <td>5</td>\n      <td>2944116</td>\n    </tr>\n  </tbody>\n</table>\n</div>"
     },
     "metadata": {},
     "execution_count": 28
    }
   ],
   "source": [
    "df.head()"
   ]
  },
  {
   "cell_type": "code",
   "execution_count": 4,
   "metadata": {},
   "outputs": [
    {
     "output_type": "stream",
     "name": "stdout",
     "text": [
      "<class 'pandas.core.frame.DataFrame'>\nRangeIndex: 17518 entries, 0 to 17517\nData columns (total 3 columns):\n #   Column  Non-Null Count  Dtype \n---  ------  --------------  ----- \n 0   DATA    17518 non-null  object\n 1   Ora     17518 non-null  int64 \n 2   VALORE  17518 non-null  int64 \ndtypes: int64(2), object(1)\nmemory usage: 342.2+ KB\n"
     ]
    }
   ],
   "source": [
    "df.info()"
   ]
  },
  {
   "cell_type": "code",
   "execution_count": 25,
   "metadata": {},
   "outputs": [],
   "source": [
    "df['DATA'] = pd.to_datetime(df['DATA'], format='%m/%d/%Y')"
   ]
  },
  {
   "cell_type": "code",
   "execution_count": 29,
   "metadata": {},
   "outputs": [
    {
     "output_type": "execute_result",
     "data": {
      "text/plain": [
       "           DATA  Ora   VALORE\n",
       "5064 2019-03-31    1  3466125\n",
       "5065 2019-03-31    2  3039997\n",
       "5066 2019-03-31    3  2907288\n",
       "5067 2019-03-31    4  2774579\n",
       "5068 2019-03-31    5  2695786"
      ],
      "text/html": "<div>\n<style scoped>\n    .dataframe tbody tr th:only-of-type {\n        vertical-align: middle;\n    }\n\n    .dataframe tbody tr th {\n        vertical-align: top;\n    }\n\n    .dataframe thead th {\n        text-align: right;\n    }\n</style>\n<table border=\"1\" class=\"dataframe\">\n  <thead>\n    <tr style=\"text-align: right;\">\n      <th></th>\n      <th>DATA</th>\n      <th>Ora</th>\n      <th>VALORE</th>\n    </tr>\n  </thead>\n  <tbody>\n    <tr>\n      <th>5064</th>\n      <td>2019-03-31</td>\n      <td>1</td>\n      <td>3466125</td>\n    </tr>\n    <tr>\n      <th>5065</th>\n      <td>2019-03-31</td>\n      <td>2</td>\n      <td>3039997</td>\n    </tr>\n    <tr>\n      <th>5066</th>\n      <td>2019-03-31</td>\n      <td>3</td>\n      <td>2907288</td>\n    </tr>\n    <tr>\n      <th>5067</th>\n      <td>2019-03-31</td>\n      <td>4</td>\n      <td>2774579</td>\n    </tr>\n    <tr>\n      <th>5068</th>\n      <td>2019-03-31</td>\n      <td>5</td>\n      <td>2695786</td>\n    </tr>\n  </tbody>\n</table>\n</div>"
     },
     "metadata": {},
     "execution_count": 29
    }
   ],
   "source": [
    "df.loc[df['DATA'] == '2019-03-31'].head() # mancano le 3"
   ]
  },
  {
   "cell_type": "code",
   "execution_count": 30,
   "metadata": {},
   "outputs": [
    {
     "output_type": "execute_result",
     "data": {
      "text/plain": [
       "            DATA  Ora   VALORE\n",
       "13800 2020-03-29    1  2642297\n",
       "13801 2020-03-29    2  2329514\n",
       "13802 2020-03-29    3  2234134\n",
       "13803 2020-03-29    4  2138754\n",
       "13804 2020-03-29    5  2062816"
      ],
      "text/html": "<div>\n<style scoped>\n    .dataframe tbody tr th:only-of-type {\n        vertical-align: middle;\n    }\n\n    .dataframe tbody tr th {\n        vertical-align: top;\n    }\n\n    .dataframe thead th {\n        text-align: right;\n    }\n</style>\n<table border=\"1\" class=\"dataframe\">\n  <thead>\n    <tr style=\"text-align: right;\">\n      <th></th>\n      <th>DATA</th>\n      <th>Ora</th>\n      <th>VALORE</th>\n    </tr>\n  </thead>\n  <tbody>\n    <tr>\n      <th>13800</th>\n      <td>2020-03-29</td>\n      <td>1</td>\n      <td>2642297</td>\n    </tr>\n    <tr>\n      <th>13801</th>\n      <td>2020-03-29</td>\n      <td>2</td>\n      <td>2329514</td>\n    </tr>\n    <tr>\n      <th>13802</th>\n      <td>2020-03-29</td>\n      <td>3</td>\n      <td>2234134</td>\n    </tr>\n    <tr>\n      <th>13803</th>\n      <td>2020-03-29</td>\n      <td>4</td>\n      <td>2138754</td>\n    </tr>\n    <tr>\n      <th>13804</th>\n      <td>2020-03-29</td>\n      <td>5</td>\n      <td>2062816</td>\n    </tr>\n  </tbody>\n</table>\n</div>"
     },
     "metadata": {},
     "execution_count": 30
    }
   ],
   "source": [
    "df.loc[df['DATA'] == '2020-03-29'].head()"
   ]
  },
  {
   "cell_type": "code",
   "execution_count": 31,
   "metadata": {},
   "outputs": [],
   "source": [
    "new_df = pd.DataFrame()\n",
    "new_df['DATA'] = df['DATA'].drop_duplicates()"
   ]
  },
  {
   "cell_type": "code",
   "execution_count": 32,
   "metadata": {},
   "outputs": [
    {
     "output_type": "execute_result",
     "data": {
      "text/plain": [
       "0       2018-09-01\n",
       "24      2018-09-02\n",
       "48      2018-09-03\n",
       "72      2018-09-04\n",
       "96      2018-09-05\n",
       "           ...    \n",
       "17400   2020-08-27\n",
       "17424   2020-08-28\n",
       "17448   2020-08-29\n",
       "17472   2020-08-30\n",
       "17496   2020-08-31\n",
       "Name: DATA, Length: 730, dtype: datetime64[ns]"
      ]
     },
     "metadata": {},
     "execution_count": 32
    }
   ],
   "source": [
    "new_df['DATA'].drop_duplicates()"
   ]
  },
  {
   "cell_type": "code",
   "execution_count": 37,
   "metadata": {
    "tags": []
   },
   "outputs": [],
   "source": [
    "df_finale = new_df\n",
    "\n",
    "for i in range(1,25):\n",
    "\n",
    "    temp = df.loc[df['Ora'] == i]\n",
    "\n",
    "    df_finale = pd.merge(df_finale, temp[['DATA','VALORE']],on = 'DATA', how = 'left')"
   ]
  },
  {
   "cell_type": "code",
   "execution_count": 38,
   "metadata": {},
   "outputs": [],
   "source": [
    "df_finale.columns = ['date','h1','h2','h3','h4','h5','h6','h7','h8','h9','h10','h11','h12','h13','h14','h15','h16','h17','h18','h19','h20','h21','h22','h23','h24']"
   ]
  },
  {
   "cell_type": "code",
   "execution_count": 41,
   "metadata": {},
   "outputs": [
    {
     "output_type": "stream",
     "name": "stdout",
     "text": [
      "<class 'pandas.core.frame.DataFrame'>\nInt64Index: 730 entries, 0 to 729\nData columns (total 25 columns):\n #   Column  Non-Null Count  Dtype         \n---  ------  --------------  -----         \n 0   date    730 non-null    datetime64[ns]\n 1   h1      730 non-null    int64         \n 2   h2      730 non-null    int64         \n 3   h3      730 non-null    int64         \n 4   h4      730 non-null    int64         \n 5   h5      730 non-null    int64         \n 6   h6      730 non-null    int64         \n 7   h7      730 non-null    int64         \n 8   h8      730 non-null    int64         \n 9   h9      730 non-null    int64         \n 10  h10     730 non-null    int64         \n 11  h11     730 non-null    int64         \n 12  h12     730 non-null    int64         \n 13  h13     730 non-null    int64         \n 14  h14     730 non-null    int64         \n 15  h15     730 non-null    int64         \n 16  h16     730 non-null    int64         \n 17  h17     730 non-null    int64         \n 18  h18     730 non-null    int64         \n 19  h19     730 non-null    int64         \n 20  h20     730 non-null    int64         \n 21  h21     730 non-null    int64         \n 22  h22     730 non-null    int64         \n 23  h23     730 non-null    int64         \n 24  h24     730 non-null    int64         \ndtypes: datetime64[ns](1), int64(24)\nmemory usage: 148.3 KB\n"
     ]
    }
   ],
   "source": [
    "df_finale.info()"
   ]
  },
  {
   "cell_type": "code",
   "execution_count": 42,
   "metadata": {},
   "outputs": [],
   "source": [
    "df_finale.to_csv('Dati_orari.csv', index=False)"
   ]
  },
  {
   "cell_type": "code",
   "execution_count": null,
   "metadata": {},
   "outputs": [],
   "source": [
    "# preprocessing completed adding 31/5/2020 : average between same hour slot of the day before and after"
   ]
  },
  {
   "cell_type": "code",
   "execution_count": null,
   "metadata": {},
   "outputs": [],
   "source": []
  },
  {
   "cell_type": "code",
   "execution_count": null,
   "metadata": {},
   "outputs": [],
   "source": []
  },
  {
   "cell_type": "code",
   "execution_count": null,
   "metadata": {},
   "outputs": [],
   "source": []
  },
  {
   "cell_type": "code",
   "execution_count": null,
   "metadata": {},
   "outputs": [],
   "source": []
  }
 ]
}